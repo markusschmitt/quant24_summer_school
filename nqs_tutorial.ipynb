{
 "cells": [
  {
   "cell_type": "markdown",
   "id": "QNFLpVdYqOqZ",
   "metadata": {
    "id": "QNFLpVdYqOqZ",
    "slideshow": {
     "slide_type": "slide"
    }
   },
   "source": [
    "# Simulation of non-equilibrium dynamics with neural quantum states\n",
    "> **Markus Schmitt**\n",
    ">\n",
    "> *Regensburg University / Forschungszentrum Jülich*\n",
    ">\n",
    "> [www.computational-quantum.science](https://www.computational-quantum.science)\n",
    ">"
   ]
  },
  {
   "cell_type": "markdown",
   "id": "4b1b1039",
   "metadata": {
    "slideshow": {
     "slide_type": "subslide"
    }
   },
   "source": [
    "## Importing some libraries\n",
    "\n",
    "Let's start by importing some libraries, that we will need later.\n",
    "\n",
    "We will use our [jVMC](https://www.github.com/markusschmitt/vmc_jax) library as a basis to work with neural quantum states. It implements all basic operations needed to work with neural quantum states."
   ]
  },
  {
   "cell_type": "code",
   "execution_count": 1,
   "id": "AM85HS1BqY63",
   "metadata": {
    "executionInfo": {
     "elapsed": 1472,
     "status": "ok",
     "timestamp": 1661791071676,
     "user": {
      "displayName": "Markus Schmitt",
      "userId": "08228341589913557167"
     },
     "user_tz": -120
    },
    "id": "AM85HS1BqY63",
    "slideshow": {
     "slide_type": "fragment"
    }
   },
   "outputs": [],
   "source": [
    "# Our jVMC library implements all required basic operations needed to work with NQS\n",
    "import jVMC\n",
    "\n",
    "import numpy as np\n",
    "import matplotlib.pyplot as plt\n",
    "\n",
    "import jax.numpy as jnp\n",
    "import jax.random\n",
    "\n",
    "from functools import partial\n",
    "\n",
    "from IPython import display\n",
    "from IPython.display import clear_output\n",
    "import time\n",
    "\n",
    "# Some useful functions are defined in `src/helper_functions.py`. Check them out, we'll use them later in this notebook.\n",
    "from src.helper_functions import *"
   ]
  },
  {
   "cell_type": "markdown",
   "id": "11b35e7c",
   "metadata": {
    "id": "11b35e7c",
    "slideshow": {
     "slide_type": "slide"
    }
   },
   "source": [
    "## Define a neural network\n",
    "\n",
    "We define a single-layer feed-forward neural network with the following architecture:\n",
    "\n",
    "<img src=\"figures/notebook_ffn.png\" width=400 />\n",
    "\n",
    "\n",
    "The network has real weights and *two real-valued outputs*, which will be interpreted as the *real and imaginary parts* of the logarithmic wave function amplitude $\\log\\psi_\\theta(s)$.\n",
    "\n"
   ]
  },
  {
   "cell_type": "markdown",
   "id": "e3bfd082",
   "metadata": {
    "slideshow": {
     "slide_type": "skip"
    }
   },
   "source": [
    "ANN visualization generated [here](http://alexlenail.me/NN-SVG/index.html)."
   ]
  },
  {
   "cell_type": "markdown",
   "id": "ef5ce1b5",
   "metadata": {
    "slideshow": {
     "slide_type": "subslide"
    }
   },
   "source": [
    "We use the [Flax library](https://www.github.com/google/flax) to define NQS architectures."
   ]
  },
  {
   "cell_type": "code",
   "execution_count": null,
   "id": "c056eca3",
   "metadata": {
    "executionInfo": {
     "elapsed": 6,
     "status": "ok",
     "timestamp": 1661791071677,
     "user": {
      "displayName": "Markus Schmitt",
      "userId": "08228341589913557167"
     },
     "user_tz": -120
    },
    "id": "c056eca3",
    "slideshow": {
     "slide_type": "fragment"
    }
   },
   "outputs": [],
   "source": [
    "import flax.linen as nn # import the flax.linen module\n",
    "\n",
    "class MyNet(nn.Module):\n",
    "    width: int = 20\n",
    "        \n",
    "    def setup(self):\n",
    "        \n",
    "        # First dense layer\n",
    "        self.L1 = nn.Dense(self.width, \n",
    "                         use_bias=True,\n",
    "                         dtype=jVMC.global_defs.tReal\n",
    "                        )\n",
    "        \n",
    "        # Second dense layer\n",
    "        self.L2 = nn.Dense(2, \n",
    "                 use_bias=True,\n",
    "                 dtype=jVMC.global_defs.tReal\n",
    "                )\n",
    "        \n",
    "    def __call__(self, s):\n",
    "        # This function defines how the ANN is evaluated\n",
    "        \n",
    "        z = self.L1(s) # Apply first dense layer to get pre-activations z\n",
    "        a = nn.elu( z ) # Apply activation function to get activations a\n",
    "        \n",
    "        output = self.L2(a) # Apply the second dense layer\n",
    "        \n",
    "        return output[0] + 1.j*output[1] # The two outputs correspond to real and imaginary parts"
   ]
  },
  {
   "cell_type": "markdown",
   "id": "f4e74386",
   "metadata": {
    "id": "f4e74386",
    "slideshow": {
     "slide_type": "subslide"
    }
   },
   "source": [
    "## Initialize a neural quantum state\n",
    "\n",
    "Initialize an instance of the `NQS` class (-> [Documentation](https://jvmc.readthedocs.io/en/latest/vqs.html#jVMC.vqs.NQS)) from the jVMC library using our custom ANN architecture from above with a given `width`."
   ]
  },
  {
   "cell_type": "code",
   "execution_count": null,
   "id": "b3bd2fb5",
   "metadata": {
    "executionInfo": {
     "elapsed": 5,
     "status": "ok",
     "timestamp": 1661791071677,
     "user": {
      "displayName": "Markus Schmitt",
      "userId": "08228341589913557167"
     },
     "user_tz": -120
    },
    "id": "b3bd2fb5",
    "slideshow": {
     "slide_type": "fragment"
    }
   },
   "outputs": [],
   "source": [
    "from jVMC.vqs import NQS\n",
    "from jVMC.nets.activation_functions import poly5, poly6\n",
    "\n",
    "width = 60\n",
    "psi = NQS(MyNet(width=width))"
   ]
  },
  {
   "cell_type": "markdown",
   "id": "O32ReMB3h_yL",
   "metadata": {
    "id": "O32ReMB3h_yL",
    "slideshow": {
     "slide_type": "subslide"
    }
   },
   "source": [
    "Next, we create a generic computational basis state (a random bit-string) to test the evaluation of the NQS.\n",
    "\n",
    "**Important**: In jVMC, data arrays typically have two leading dimensions:\n",
    "- the leading *device dimension* to distribute data across multiple locally available GPUs.\n",
    "- the second *batch dimension* for vectorization on a single GPU."
   ]
  },
  {
   "cell_type": "code",
   "execution_count": null,
   "id": "2d1e1cc3",
   "metadata": {
    "colab": {
     "base_uri": "https://localhost:8080/"
    },
    "executionInfo": {
     "elapsed": 1383,
     "status": "ok",
     "timestamp": 1661791073055,
     "user": {
      "displayName": "Markus Schmitt",
      "userId": "08228341589913557167"
     },
     "user_tz": -120
    },
    "id": "2d1e1cc3",
    "outputId": "31f31572-4270-4432-d92a-f95f34b5be0d",
    "slideshow": {
     "slide_type": "fragment"
    }
   },
   "outputs": [],
   "source": [
    "L = 8 # Fix the system size\n",
    "\n",
    "# Get a random configuration; Notice the shape with two leading dimensions\n",
    "s = 1*jax.random.bernoulli(jax.random.PRNGKey(1234), shape=(1,1,L))\n",
    "\n",
    "print(s)"
   ]
  },
  {
   "cell_type": "markdown",
   "id": "9eafb717",
   "metadata": {
    "slideshow": {
     "slide_type": "subslide"
    }
   },
   "source": [
    "We will use a logarithmic encoding of the wave function coefficients, i.e.\n",
    "$$\\log\\psi_\\theta(\\mathbf s)\\equiv \\text{ANN}_\\theta(\\mathbf s)$$\n",
    "Let's evaluate our NQS on the example configuration!"
   ]
  },
  {
   "cell_type": "code",
   "execution_count": null,
   "id": "aba62bf2",
   "metadata": {
    "colab": {
     "base_uri": "https://localhost:8080/",
     "height": 368
    },
    "executionInfo": {
     "elapsed": 6597,
     "status": "ok",
     "timestamp": 1661791079649,
     "user": {
      "displayName": "Markus Schmitt",
      "userId": "08228341589913557167"
     },
     "user_tz": -120
    },
    "id": "aba62bf2",
    "outputId": "64285c99-29e4-49d7-ba7e-5f8a7faed352",
    "slideshow": {
     "slide_type": "fragment"
    }
   },
   "outputs": [],
   "source": [
    "coeff = psi(s) # Evaluate the NQS\n",
    "\n",
    "plot_coeffs(coeff) # Plot the result in a polar plot"
   ]
  },
  {
   "cell_type": "markdown",
   "id": "8c7821a4",
   "metadata": {
    "id": "8c7821a4",
    "slideshow": {
     "slide_type": "subslide"
    }
   },
   "source": [
    "Let's check how many parameters we have in our NQS ansatz:"
   ]
  },
  {
   "cell_type": "code",
   "execution_count": null,
   "id": "910ddeac",
   "metadata": {
    "colab": {
     "base_uri": "https://localhost:8080/"
    },
    "executionInfo": {
     "elapsed": 9,
     "status": "ok",
     "timestamp": 1661791081096,
     "user": {
      "displayName": "Markus Schmitt",
      "userId": "08228341589913557167"
     },
     "user_tz": -120
    },
    "id": "910ddeac",
    "outputId": "c8bd0891-777a-4a6c-c494-56d6032abaa3",
    "slideshow": {
     "slide_type": "fragment"
    }
   },
   "outputs": [],
   "source": [
    "params = psi.get_parameters() # Get vector of network parameters\n",
    "\n",
    "print(params.shape)"
   ]
  },
  {
   "cell_type": "markdown",
   "id": "hCjb174HiKQZ",
   "metadata": {
    "id": "hCjb174HiKQZ",
    "slideshow": {
     "slide_type": "subslide"
    }
   },
   "source": [
    "### Batched evaluation\n",
    "\n",
    "The NQS class supports batched network evaluations on multiple input configurations, which is crutial for performance."
   ]
  },
  {
   "cell_type": "code",
   "execution_count": null,
   "id": "aa94dda3",
   "metadata": {
    "colab": {
     "base_uri": "https://localhost:8080/"
    },
    "executionInfo": {
     "elapsed": 9,
     "status": "ok",
     "timestamp": 1661791079649,
     "user": {
      "displayName": "Markus Schmitt",
      "userId": "08228341589913557167"
     },
     "user_tz": -120
    },
    "id": "aa94dda3",
    "outputId": "6982cfee-d019-4568-c511-2d3b11757b4e",
    "slideshow": {
     "slide_type": "fragment"
    }
   },
   "outputs": [],
   "source": [
    "# Get a batch of random configurations\n",
    "s_batch = 1*jax.random.bernoulli(jax.random.PRNGKey(1234), shape=(1,13,L))\n",
    "\n",
    "print(s_batch)"
   ]
  },
  {
   "cell_type": "code",
   "execution_count": null,
   "id": "de0605db",
   "metadata": {
    "colab": {
     "base_uri": "https://localhost:8080/",
     "height": 368
    },
    "executionInfo": {
     "elapsed": 1450,
     "status": "ok",
     "timestamp": 1661791081095,
     "user": {
      "displayName": "Markus Schmitt",
      "userId": "08228341589913557167"
     },
     "user_tz": -120
    },
    "id": "de0605db",
    "outputId": "9ecd57f4-e6f3-4896-a8c1-2224a5000827",
    "scrolled": false,
    "slideshow": {
     "slide_type": "subslide"
    }
   },
   "outputs": [],
   "source": [
    "coeffs = psi(s_batch) # Evaluate the NQS\n",
    "\n",
    "plot_coeffs(coeffs)"
   ]
  },
  {
   "cell_type": "markdown",
   "id": "9a182f8d",
   "metadata": {
    "id": "9a182f8d",
    "slideshow": {
     "slide_type": "slide"
    }
   },
   "source": [
    "## Operators: Set up observables\n",
    "\n",
    "The `BranchFreeOperator` class (-> [Documentation](https://jvmc.readthedocs.io/en/latest/operator.html#branch-free-operator-class)) can be used to create physical operators."
   ]
  },
  {
   "cell_type": "code",
   "execution_count": null,
   "id": "b7b81723",
   "metadata": {
    "executionInfo": {
     "elapsed": 5,
     "status": "ok",
     "timestamp": 1661791081096,
     "user": {
      "displayName": "Markus Schmitt",
      "userId": "08228341589913557167"
     },
     "user_tz": -120
    },
    "id": "b7b81723",
    "slideshow": {
     "slide_type": "fragment"
    }
   },
   "outputs": [],
   "source": [
    "# Import some stuff from the operator module\n",
    "from jVMC.operator import BranchFreeOperator\n",
    "from jVMC.operator import Sz, Sx\n",
    "from jVMC.operator import scal_opstr"
   ]
  },
  {
   "cell_type": "markdown",
   "id": "yMlfggy_jZTx",
   "metadata": {
    "id": "yMlfggy_jZTx",
    "slideshow": {
     "slide_type": "subslide"
    }
   },
   "source": [
    "Let's create an operator that measures the polarization in the $x$-direction normalized by system size:\n",
    "\n",
    "$$\\hat X=\\frac{1}{L}\\sum_{l=1}^L\\hat\\sigma_l^x$$"
   ]
  },
  {
   "cell_type": "code",
   "execution_count": null,
   "id": "825bba7c",
   "metadata": {
    "executionInfo": {
     "elapsed": 4,
     "status": "ok",
     "timestamp": 1661791081096,
     "user": {
      "displayName": "Markus Schmitt",
      "userId": "08228341589913557167"
     },
     "user_tz": -120
    },
    "id": "825bba7c",
    "slideshow": {
     "slide_type": "fragment"
    }
   },
   "outputs": [],
   "source": [
    "X = BranchFreeOperator() # Initialize an instance of the BranchFreeOperator class\n",
    "\n",
    "# Individual terms of a sum can be added sequentially\n",
    "for l in range(L):\n",
    "    X.add( scal_opstr(1. / L, (Sx(l), )) )"
   ]
  },
  {
   "cell_type": "markdown",
   "id": "XlCh9d1MkK0y",
   "metadata": {
    "id": "XlCh9d1MkK0y",
    "slideshow": {
     "slide_type": "subslide"
    }
   },
   "source": [
    "The `BranchFreeOperator` class implements the computation of non-zero matrix elements of the operator for a given input configuration:"
   ]
  },
  {
   "cell_type": "code",
   "execution_count": null,
   "id": "3234ff4c",
   "metadata": {
    "colab": {
     "base_uri": "https://localhost:8080/"
    },
    "executionInfo": {
     "elapsed": 206,
     "status": "ok",
     "timestamp": 1661794492012,
     "user": {
      "displayName": "Markus Schmitt",
      "userId": "08228341589913557167"
     },
     "user_tz": -120
    },
    "id": "3234ff4c",
    "outputId": "2d1a11c2-208b-4eea-8ad5-04c73ad2bc79",
    "slideshow": {
     "slide_type": "fragment"
    }
   },
   "outputs": [],
   "source": [
    "# Create input configuration (all spins down)\n",
    "s1 = jax.numpy.zeros((1,1,L), dtype=np.int32)\n",
    "\n",
    "# Compute non-zero matrix elements\n",
    "s_primes, matrix_elements = X.get_s_primes(s1)\n",
    "\n",
    "print(\"Input configuration:\", s1)\n",
    "print()\n",
    "print(\"s_primes:\\n\", s_primes)\n",
    "print()\n",
    "print(\"matrix_elements:\\n\", matrix_elements)"
   ]
  },
  {
   "cell_type": "markdown",
   "id": "7de89b91",
   "metadata": {
    "id": "7de89b91",
    "slideshow": {
     "slide_type": "slide"
    }
   },
   "source": [
    "## Measuring expectation values: sampling\n",
    "\n",
    "The `MCSampler` class (-> [Documentation](https://jvmc.readthedocs.io/en/latest/sampler.html#jVMC.sampler.MCSampler)) implements Monte Carlo sampling from the given NQS."
   ]
  },
  {
   "cell_type": "code",
   "execution_count": null,
   "id": "b7e7efa7",
   "metadata": {
    "executionInfo": {
     "elapsed": 1297,
     "status": "ok",
     "timestamp": 1661791084496,
     "user": {
      "displayName": "Markus Schmitt",
      "userId": "08228341589913557167"
     },
     "user_tz": -120
    },
    "id": "b7e7efa7",
    "slideshow": {
     "slide_type": "fragment"
    }
   },
   "outputs": [],
   "source": [
    "from jVMC.sampler import MCSampler\n",
    "\n",
    "mc_sampler = MCSampler(psi, (L,), 1234, updateProposer=jVMC.sampler.propose_spin_flip)"
   ]
  },
  {
   "cell_type": "markdown",
   "id": "_T95J2PdlLEx",
   "metadata": {
    "id": "_T95J2PdlLEx",
    "slideshow": {
     "slide_type": "fragment"
    }
   },
   "source": [
    "Generate `numSamples` samples."
   ]
  },
  {
   "cell_type": "code",
   "execution_count": null,
   "id": "4958a7e7",
   "metadata": {
    "colab": {
     "base_uri": "https://localhost:8080/"
    },
    "executionInfo": {
     "elapsed": 2411,
     "status": "ok",
     "timestamp": 1661793043412,
     "user": {
      "displayName": "Markus Schmitt",
      "userId": "08228341589913557167"
     },
     "user_tz": -120
    },
    "id": "4958a7e7",
    "outputId": "d57908a8-685f-4a57-efe3-d56b259d4416",
    "slideshow": {
     "slide_type": "fragment"
    }
   },
   "outputs": [],
   "source": [
    "configs, coeffs, _ = mc_sampler.sample(numSamples=10)\n",
    "\n",
    "print(\"Sampled configurations:\\n\", configs)\n",
    "print()\n",
    "print(\"Corresponding (log.) wave function coefficients:\\n\", coeffs)"
   ]
  },
  {
   "cell_type": "markdown",
   "id": "YdVUcFfGlgJf",
   "metadata": {
    "id": "YdVUcFfGlgJf",
    "slideshow": {
     "slide_type": "subslide"
    }
   },
   "source": [
    "Using the `MCSampler` we can now estimate the quantum expectation value\n",
    "\n",
    "$$\\langle\\psi_\\theta|\\hat X|\\psi_\\theta\\rangle=\\sum_s\\frac{|\\psi_\\theta(s)|^2}{\\langle\\psi_\\theta|\\psi_\\theta\\rangle}\\underbrace{\\sum_{s'}X_{s,s'}\\frac{\\psi_\\theta(s')}{\\psi_\\theta(s)}}_{\\equiv O_{\\text{loc}}(\\mathbf s)}\n",
    "\\equiv\\langle\\langle O_{\\text{loc}}(\\mathbf s)\\rangle\\rangle_{|\\psi(\\mathbf s)|^2}\n",
    "$$\n",
    "\n",
    "The operator class provides a member function to compute the **local estimator** $O_{\\text{loc}}(\\mathbf s)$ for a given set of configurations. In order to  compute statistics from the sample, we can use the `SampledObs` class (-> [Documentation](https://jvmc.readthedocs.io/en/latest/stats.html)):"
   ]
  },
  {
   "cell_type": "code",
   "execution_count": null,
   "id": "c4d80317",
   "metadata": {
    "slideshow": {
     "slide_type": "fragment"
    }
   },
   "outputs": [],
   "source": [
    "from jVMC.stats import SampledObs\n",
    "\n",
    "configs, coeffs, ps = mc_sampler.sample(numSamples=500)\n",
    "Oloc = X.get_O_loc(configs, psi, coeffs)\n",
    "\n",
    "print(\"`Oloc` is a vector of shape \", Oloc.shape)\n",
    "\n",
    "Oloc = SampledObs(Oloc, ps)\n",
    "OlocMean = Oloc.mean()[0]\n",
    "\n",
    "print(\"The sample mean is O_loc =\", OlocMean)"
   ]
  },
  {
   "cell_type": "markdown",
   "id": "a4b22c5e",
   "metadata": {
    "slideshow": {
     "slide_type": "subslide"
    }
   },
   "source": [
    "For convenience, measuring observable expectation values is implemented in the utility function `measure` (-> [Documentation](https://jvmc.readthedocs.io/en/latest/util.html#jVMC.util.util.measure))."
   ]
  },
  {
   "cell_type": "code",
   "execution_count": null,
   "id": "4cd1337c",
   "metadata": {
    "executionInfo": {
     "elapsed": 8959,
     "status": "ok",
     "timestamp": 1661791097215,
     "user": {
      "displayName": "Markus Schmitt",
      "userId": "08228341589913557167"
     },
     "user_tz": -120
    },
    "id": "4cd1337c",
    "slideshow": {
     "slide_type": "fragment"
    }
   },
   "outputs": [],
   "source": [
    "from jVMC.util import measure\n",
    "\n",
    "observables = {\n",
    "    \"X\": X\n",
    "}\n",
    "\n",
    "# measure expectation value of observables contained in the dictionary from above\n",
    "# using the given NQS and sampler.\n",
    "obs = measure(observables, psi, mc_sampler)\n",
    "\n",
    "print(\"Expectation value of X: %.3f+/-%.3f\" % (obs[\"X\"][\"mean\"][0], obs[\"X\"][\"MC_error\"][0]))\n",
    "print(\"Variance of X: %.3f\" % (obs[\"X\"][\"variance\"][0]))"
   ]
  },
  {
   "cell_type": "markdown",
   "id": "e7dc2046",
   "metadata": {
    "id": "e7dc2046",
    "slideshow": {
     "slide_type": "slide"
    }
   },
   "source": [
    "## Computing gradients\n",
    "\n",
    "The `NQS` class provides a member function to compute the gradient of the (logarithmic) wave function,\n",
    "\n",
    "$$\\Gamma_k(s)=\\frac{\\partial}{\\partial\\theta_k}\\log\\psi_\\theta(s)$$\n",
    "\n",
    "**Notice:** We use logarithmic encoding ($\\log\\psi_\\theta(\\mathbf s)\\equiv \\text{ANN}_\\theta(\\mathbf s)$). Therefore,\n",
    "\n",
    "$$\\Gamma_k(s)=\\frac{\\partial}{\\partial\\theta_k}\\text{ANN}_\\theta(s)$$"
   ]
  },
  {
   "cell_type": "code",
   "execution_count": null,
   "id": "b35ac20a",
   "metadata": {
    "colab": {
     "base_uri": "https://localhost:8080/",
     "height": 297
    },
    "executionInfo": {
     "elapsed": 1710,
     "status": "ok",
     "timestamp": 1661791098921,
     "user": {
      "displayName": "Markus Schmitt",
      "userId": "08228341589913557167"
     },
     "user_tz": -120
    },
    "id": "b35ac20a",
    "outputId": "34297eac-fc95-410b-de4d-aa954c8260a0",
    "slideshow": {
     "slide_type": "fragment"
    }
   },
   "outputs": [],
   "source": [
    "grads = psi.gradients(s) # Compute (logarithmic) derivatives\n",
    "\n",
    "plot_gradient(grads)"
   ]
  },
  {
   "cell_type": "markdown",
   "id": "a8fec9fb",
   "metadata": {
    "id": "a8fec9fb",
    "slideshow": {
     "slide_type": "slide"
    }
   },
   "source": [
    "## Ground state search\n",
    "\n",
    "### Create a Hamiltonian\n",
    "\n",
    "In the following we will be interested in the one-dimensional quantum Ising model:\n",
    "\n",
    "$$\\hat H=-\\sum_{l=1}^L\\hat\\sigma_l^x\\hat\\sigma_{l+1}^x - g\\sum_{l=1}^L\\hat\\sigma_l^z  - h\\sum_{l=1}^L\\hat\\sigma_l^x $$"
   ]
  },
  {
   "cell_type": "code",
   "execution_count": null,
   "id": "3c8e5687",
   "metadata": {
    "executionInfo": {
     "elapsed": 10,
     "status": "ok",
     "timestamp": 1661791098922,
     "user": {
      "displayName": "Markus Schmitt",
      "userId": "08228341589913557167"
     },
     "user_tz": -120
    },
    "id": "3c8e5687",
    "slideshow": {
     "slide_type": "fragment"
    }
   },
   "outputs": [],
   "source": [
    "g = 0.3\n",
    "h = 0.25\n",
    "\n",
    "H = BranchFreeOperator()\n",
    "\n",
    "for l in range(L):\n",
    "    H.add( scal_opstr(-1.0, (Sx(l), Sx((l+1)%L))) )    # - Sx(l) Sx(l+1)\n",
    "    H.add( scal_opstr(-h, (Sx(l),)) )                  # -h Sx(l)\n",
    "    H.add( scal_opstr(-g, (Sz(l),)) )                  # -g Sz(l)"
   ]
  },
  {
   "cell_type": "code",
   "execution_count": null,
   "id": "9c4b9eaa",
   "metadata": {
    "executionInfo": {
     "elapsed": 6,
     "status": "ok",
     "timestamp": 1661791098922,
     "user": {
      "displayName": "Markus Schmitt",
      "userId": "08228341589913557167"
     },
     "user_tz": -120
    },
    "id": "9c4b9eaa",
    "slideshow": {
     "slide_type": "fragment"
    }
   },
   "outputs": [],
   "source": [
    "observables[\"energy\"] = H"
   ]
  },
  {
   "cell_type": "markdown",
   "id": "bac49716",
   "metadata": {
    "slideshow": {
     "slide_type": "subslide"
    }
   },
   "source": [
    "### Gradient descent to find the ground state\n",
    "\n",
    "The initial state for a time evolution can typically be defined as the ground state of a suited Hamiltonian $\\hat H$.\n",
    "\n",
    "$\\Rightarrow$ We would like to optimize the parameters of our NQS, such that it approximates the minimal energy eigenstate of $\\hat H$.\n",
    "\n",
    "The workhorse for this purpose is gradient-based optimization.\n",
    "\n",
    "The gradient of the energy expectation value with respect to the NQS parameters is\n",
    "\n",
    "$$\\frac{\\partial}{\\partial\\theta_k} \\frac{\\langle\\psi_\\theta|\\hat H|\\psi_\\theta\\rangle}{\\langle\\psi_\\theta|\\psi_\\theta\\rangle}\n",
    "=2\\text{Re}\\bigg[\n",
    "    \\frac{\\langle\\partial_k\\psi_\\theta|\\hat H|\\psi_\\theta\\rangle}{\\langle\\psi_\\theta|\\psi_\\theta\\rangle}\n",
    "    -\\frac{\\langle\\partial_k\\psi_\\theta|\\psi_\\theta\\rangle}{\\langle\\psi_\\theta|\\psi_\\theta\\rangle}\\frac{\\langle\\psi_\\theta|\\hat H|\\psi_\\theta\\rangle}{\\langle\\psi_\\theta|\\psi_\\theta\\rangle}\n",
    "\\bigg]\n",
    "\\equiv\n",
    "2\\text{Re}\\Big[\\langle\\langle \\Gamma_k(\\mathbf s)^*E_{\\text{loc}}(\\mathbf s)\\rangle\\rangle_{|\\psi(\\mathbf s)|^2}^C\\Big]\n",
    "$$"
   ]
  },
  {
   "cell_type": "code",
   "execution_count": null,
   "id": "bdf6e7ce",
   "metadata": {
    "slideshow": {
     "slide_type": "subslide"
    }
   },
   "outputs": [],
   "source": [
    "def run_gs_search(numSteps, learningRate, numSamples, H, L, psi, displayPlot=True):\n",
    "\n",
    "    mc_sampler = MCSampler(psi, (L,), 1234, updateProposer=jVMC.sampler.propose_spin_flip)\n",
    "    \n",
    "    energies = np.zeros((numSteps, 3))\n",
    "\n",
    "    if displayPlot:\n",
    "        plt.ion()\n",
    "        plt.xlim(0, numSteps)\n",
    "        plt.xlabel(\"Optimization step\")\n",
    "        plt.ylabel(\"Energy\")\n",
    "\n",
    "    for n in range(numSteps):\n",
    "        configs, coeffs, ps = mc_sampler.sample(numSamples=numSamples)  # sample\n",
    "\n",
    "        grads = SampledObs(psi.gradients(configs), ps)           # get log-derivatives\n",
    "        Eloc = SampledObs(H.get_O_loc(configs, psi, coeffs), ps) # get local energies\n",
    "\n",
    "        Egrad = grads.covar(Eloc) # Compute energy gradient according to formula above\n",
    "\n",
    "        # Parameter update\n",
    "        newParams = psi.get_parameters() - 2.0*jnp.real(learningRate * Egrad).ravel()\n",
    "        psi.set_parameters(newParams)\n",
    "\n",
    "        energies[n, 0] = n\n",
    "        energies[n, 1] = np.real(Eloc.mean()[0])\n",
    "        energies[n, 2] = np.real(Eloc.var()[0])\n",
    "\n",
    "        if displayPlot:\n",
    "            # Plot data\n",
    "            npdata = np.array(energies)\n",
    "            plt.plot(npdata[0:n, 0], npdata[0:n, 1], c=\"red\")\n",
    "            display.clear_output(wait=True)\n",
    "            display.display(plt.gcf())\n",
    "        else:\n",
    "            print(n, obs[\"energy\"][\"mean\"][0])\n",
    "\n",
    "    if displayPlot:\n",
    "        display.clear_output(wait=True)\n",
    "    \n",
    "    return energies\n"
   ]
  },
  {
   "cell_type": "code",
   "execution_count": null,
   "id": "ae274980",
   "metadata": {
    "slideshow": {
     "slide_type": "subslide"
    }
   },
   "outputs": [],
   "source": [
    "numSteps = 100\n",
    "learningRate = 0.025\n",
    "numSamples = 500\n",
    "\n",
    "psi = NQS(MyNet(width=50))\n",
    "\n",
    "energies = run_gs_search(numSteps, learningRate, numSamples, H, L, psi)"
   ]
  },
  {
   "cell_type": "code",
   "execution_count": null,
   "id": "d63d5160",
   "metadata": {
    "slideshow": {
     "slide_type": "subslide"
    }
   },
   "outputs": [],
   "source": [
    "fig, ax = plt.subplots(1,2, figsize=(12,4))\n",
    "ax[0].plot(energies[:,0], energies[:,1])\n",
    "ax[1].set_xlabel(\"Optimization step\")\n",
    "ax[0].set_ylabel(\"Energy\")\n",
    "ax[1].plot(energies[:,0], energies[:,2])\n",
    "ax[1].set_xlabel(\"Optimization step\")\n",
    "ax[1].set_ylabel(\"Energy variance\")"
   ]
  },
  {
   "cell_type": "markdown",
   "id": "62430cbe",
   "metadata": {
    "slideshow": {
     "slide_type": "slide"
    }
   },
   "source": [
    "<img src=\"figures/confinement.png\" width=1000 />"
   ]
  },
  {
   "cell_type": "markdown",
   "id": "f6834d97",
   "metadata": {
    "slideshow": {
     "slide_type": "skip"
    }
   },
   "source": [
    "Link to reference: [Kormos et al., Nat. Phys (2017)](https://www.nature.com/articles/nphys3934)"
   ]
  },
  {
   "cell_type": "markdown",
   "id": "1f27fc44",
   "metadata": {
    "id": "1f27fc44",
    "slideshow": {
     "slide_type": "subslide"
    }
   },
   "source": [
    "## Initial ground state search\n",
    "\n",
    "We want to initialize the system in the state\n",
    "\n",
    "$$|\\psi_0\\rangle=\\bigotimes_l|\\rightarrow\\rangle_l$$\n",
    "\n",
    "This is achieved by a ground state search with the Hamiltonian $\\hat H_{GS}=-\\sum_l\\hat\\sigma_l^x$."
   ]
  },
  {
   "cell_type": "code",
   "execution_count": null,
   "id": "8ed52075",
   "metadata": {
    "executionInfo": {
     "elapsed": 21284,
     "status": "ok",
     "timestamp": 1661791121240,
     "user": {
      "displayName": "Markus Schmitt",
      "userId": "08228341589913557167"
     },
     "user_tz": -120
    },
    "id": "8ed52075",
    "slideshow": {
     "slide_type": "fragment"
    }
   },
   "outputs": [],
   "source": [
    "L=8\n",
    "width=30\n",
    "\n",
    "psi = NQS(MyNet(width=width), batchSize=2**L)\n",
    "\n",
    "H_gs = BranchFreeOperator()\n",
    "for l in range(L):\n",
    "    H_gs.add( scal_opstr(-1.0, (Sx(l),)) )\n",
    "    \n",
    "run_gs_search(100, learningRate, numSamples, H_gs, L, psi);"
   ]
  },
  {
   "cell_type": "markdown",
   "id": "2c9242a6",
   "metadata": {
    "id": "2c9242a6",
    "slideshow": {
     "slide_type": "slide"
    }
   },
   "source": [
    "## Set up the time-dependent variational principle (TDVP)\n",
    "\n",
    "The `TDVP` class (-> [documentation](https://jvmc.readthedocs.io/en/latest/util/tdvp.html#jVMC.util.tdvp.TDVP)) from the utilities implements the TDVP time step. It will be used to determine the parameter update $\\dot\\theta$ using the TDVP equation  $$S_{k,k'}\\dot\\theta_{k'}=-iF_k$$."
   ]
  },
  {
   "cell_type": "code",
   "execution_count": null,
   "id": "d84d3635",
   "metadata": {
    "executionInfo": {
     "elapsed": 1046,
     "status": "ok",
     "timestamp": 1661791099964,
     "user": {
      "displayName": "Markus Schmitt",
      "userId": "08228341589913557167"
     },
     "user_tz": -120
    },
    "id": "d84d3635",
    "slideshow": {
     "slide_type": "fragment"
    }
   },
   "outputs": [],
   "source": [
    "from jVMC.util import TDVP\n",
    "\n",
    "# Use exact sampler for demonstration purposes\n",
    "from jVMC.sampler import ExactSampler\n",
    "sampler = ExactSampler(psi, L)\n",
    "\n",
    "tdvpEquation = TDVP(sampler, \n",
    "                    pinvTol=1e-8,\n",
    "                    rhsPrefactor=1.j,\n",
    "                    makeReal='imag'\n",
    "                   )"
   ]
  },
  {
   "cell_type": "markdown",
   "id": "6ff4571d",
   "metadata": {
    "id": "6ff4571d",
    "slideshow": {
     "slide_type": "subslide"
    }
   },
   "source": [
    "## Set up the time evolution\n",
    "\n",
    "Now, we can write a function, that performs the time propagation of the NQS:"
   ]
  },
  {
   "cell_type": "code",
   "execution_count": null,
   "id": "0152d552",
   "metadata": {
    "colab": {
     "base_uri": "https://localhost:8080/"
    },
    "executionInfo": {
     "elapsed": 214723,
     "status": "ok",
     "timestamp": 1661791335955,
     "user": {
      "displayName": "Markus Schmitt",
      "userId": "08228341589913557167"
     },
     "user_tz": -120
    },
    "id": "0152d552",
    "outputId": "3cf49bcf-df77-4ea7-c133-c27498188655",
    "slideshow": {
     "slide_type": "fragment"
    }
   },
   "outputs": [],
   "source": [
    "def run_time_evolution(psi, H, tdvpEquation, tmax, observables):\n",
    "    t = 0.0    # Initial time\n",
    "\n",
    "    # Initialize an adaptive ODE integrator\n",
    "    stepper = jVMC.util.stepper.AdaptiveHeun(timeStep=1e-3, tol=1e-4)\n",
    "\n",
    "    observables[\"energy\"] = H\n",
    "    data = {\"parameters\": [], \"observables\": [], \"residuals\": []}\n",
    "    \n",
    "    # Measure observables\n",
    "    obs = measure(observables, psi, sampler)\n",
    "    data[\"observables\"].append([t, obs[\"energy\"][\"mean\"][0], obs[\"X\"][\"mean\"][0]])\n",
    "    data[\"parameters\"].append(psi.params.unfreeze())\n",
    "\n",
    "    while t < tmax:\n",
    "        tic = time.perf_counter()\n",
    "\n",
    "        # TDVP step\n",
    "        dp, dt = stepper.step(t,                      # current time\n",
    "                              tdvpEquation,           # TDVP object\n",
    "                              psi.get_parameters(),   # current network parameters\n",
    "                              hamiltonian=H,          # Hamiltonian operator\n",
    "                              psi=psi,                # NQS object\n",
    "                              normFunction=partial(norm_fun, df=tdvpEquation.S_dot)\n",
    "                                                      # Norm for adaptive time step\n",
    "                             )\n",
    "        psi.set_parameters(dp)\n",
    "        t += dt\n",
    "\n",
    "        # Get TDVP error and residual of solving TDVP equation\n",
    "        tdvpErr, linEqRes = tdvpEquation.get_residuals()\n",
    "\n",
    "        # Measure observables\n",
    "        obs = measure(observables, psi, sampler)\n",
    "        data[\"observables\"].append([t, obs[\"energy\"][\"mean\"][0], obs[\"X\"][\"mean\"][0]])\n",
    "        data[\"parameters\"].append(psi.params.unfreeze())\n",
    "        data[\"residuals\"].append([t-dt, tdvpErr, linEqRes])\n",
    "\n",
    "        # Write some meta info to screen\n",
    "        write_info(t, dt, tdvpErr, linEqRes, obs, tic)\n",
    "        \n",
    "    return data"
   ]
  },
  {
   "cell_type": "markdown",
   "id": "3e2cd30f",
   "metadata": {
    "slideshow": {
     "slide_type": "subslide"
    }
   },
   "source": [
    "# Run the simulation"
   ]
  },
  {
   "cell_type": "code",
   "execution_count": null,
   "id": "3fd0a9e1",
   "metadata": {
    "slideshow": {
     "slide_type": "fragment"
    }
   },
   "outputs": [],
   "source": [
    "g = 0.5\n",
    "h = 0.2\n",
    "\n",
    "H = BranchFreeOperator()\n",
    "\n",
    "for l in range(L):\n",
    "    H.add( scal_opstr(-1.0, (Sx(l), Sx((l+1)%L))) )    # - Sx(l) Sx(l+1)\n",
    "    H.add( scal_opstr(-h, (Sx(l),)) )                  # -h Sx(l)\n",
    "    H.add( scal_opstr(-g, (Sz(l),)) )                  # -g Sz(l)\n",
    "\n",
    "data = run_time_evolution(psi, H, tdvpEquation, 3.0, observables)\n",
    "\n",
    "save_to_disk(data, L, g, h, fn=\"ffn_width=\"+str(width)+\"_\")"
   ]
  },
  {
   "cell_type": "code",
   "execution_count": null,
   "id": "798ab015",
   "metadata": {
    "colab": {
     "base_uri": "https://localhost:8080/",
     "height": 265
    },
    "executionInfo": {
     "elapsed": 791,
     "status": "ok",
     "timestamp": 1661791336741,
     "user": {
      "displayName": "Markus Schmitt",
      "userId": "08228341589913557167"
     },
     "user_tz": -120
    },
    "id": "798ab015",
    "outputId": "c7a1c314-b302-4dcc-dc57-5daebbc3aeaa",
    "scrolled": true,
    "slideshow": {
     "slide_type": "subslide"
    }
   },
   "outputs": [],
   "source": [
    "plot_observables(L, g, h, fns=[\"ffn_width=\"+str(width)+\"_\"])"
   ]
  },
  {
   "cell_type": "markdown",
   "id": "8fa5415e",
   "metadata": {
    "slideshow": {
     "slide_type": "subslide"
    }
   },
   "source": [
    "## Convergence with increasing network size"
   ]
  },
  {
   "cell_type": "code",
   "execution_count": 3,
   "id": "befaf9ef",
   "metadata": {
    "slideshow": {
     "slide_type": "fragment"
    }
   },
   "outputs": [
    {
     "data": {
      "image/png": "[encoded data removed]",
      "text/plain": [
       "<Figure size 1200x400 with 2 Axes>"
      ]
     },
     "metadata": {},
     "output_type": "display_data"
    }
   ],
   "source": [
    "L=8\n",
    "g = 0.5\n",
    "h = 0.2\n",
    "plot_observables(L, g, h, fns=[\"ffn_width=\"+str(16)+\"_\", \"ffn_width=\"+str(32)+\"_\", \"ffn_width=\"+str(64)+\"_\"], tmax=3.0)"
   ]
  },
  {
   "cell_type": "markdown",
   "id": "eb9262a7",
   "metadata": {
    "slideshow": {
     "slide_type": "slide"
    }
   },
   "source": [
    "## Possible extensions\n",
    "\n",
    "- Can you identify the quantum phase transition of the transverse-field Ising model ($h=0$) by running the ground state search with varying $g$ and increased system sizes?\n",
    "\n",
    "- Can you identify patterns in the time evolution of the weights and biases of the ANN?\n",
    "    \n",
    "    (The `data` dictionary has a field `parameters` holding the parameter values at all simulation time steps.)\n",
    "    \n",
    "- What happens when we use a convolutional neural network (CNN) instead of the simple feed-forward network from above?\n",
    "\n",
    "    Using the CNN the wave function becomes inherently translationally invariant, see e.g. [arXiv:1903.06713](https://arxiv.org/abs/1903.06713)."
   ]
  },
  {
   "cell_type": "code",
   "execution_count": null,
   "id": "00113208",
   "metadata": {
    "slideshow": {
     "slide_type": "fragment"
    }
   },
   "outputs": [],
   "source": [
    "psi = NQS(jVMC.nets.CpxCNN(F=(L,), channels=(6,4), actFun=(poly6,poly5), firstLayerBias=True), batchSize=2**L)"
   ]
  }
 ],
 "metadata": {
  "accelerator": "GPU",
  "celltoolbar": "Slideshow",
  "colab": {
   "collapsed_sections": [
    "-vhoMrtsRBdk",
    "GlqcbTocGA58",
    "11b35e7c",
    "f4e74386",
    "hCjb174HiKQZ",
    "9a182f8d",
    "7de89b91",
    "e7dc2046",
    "a8fec9fb",
    "2c9242a6",
    "1f27fc44"
   ],
   "name": "nqs_time_evolution.ipynb",
   "provenance": []
  },
  "gpuClass": "standard",
  "kernelspec": {
   "display_name": "Python [conda env:quant24]",
   "language": "python",
   "name": "conda-env-quant24-py"
  },
  "language_info": {
   "codemirror_mode": {
    "name": "ipython",
    "version": 3
   },
   "file_extension": ".py",
   "mimetype": "text/x-python",
   "name": "python",
   "nbconvert_exporter": "python",
   "pygments_lexer": "ipython3",
   "version": "3.11.9"
  },
  "rise": {
   "height": "75%",
   "theme": "moon",
   "width": "75%"
  }
 },
 "nbformat": 4,
 "nbformat_minor": 5
}
